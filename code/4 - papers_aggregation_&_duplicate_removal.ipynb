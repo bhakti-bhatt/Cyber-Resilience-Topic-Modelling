{
 "cells": [
  {
   "cell_type": "code",
   "execution_count": 31,
   "metadata": {
    "id": "qcK-LeXYlmZ2",
    "outputId": "3c25a34b-bd10-4ea7-ed3c-04c85253a715"
   },
   "outputs": [],
   "source": [
    "# Change active directory to the folder containing CSV file\n",
    "import os\n",
    "import numpy as np\n",
    "import pandas as pd\n",
    "\n"
   ]
  },
  {
   "cell_type": "code",
   "execution_count": 32,
   "metadata": {
    "id": "YdnFVB5XlmZ_",
    "outputId": "54d61a2b-e43d-4778-ec35-74827c8e9d06"
   },
   "outputs": [
    {
     "name": "stdout",
     "output_type": "stream",
     "text": [
      "(1681, 53)\n"
     ]
    },
    {
     "data": {
      "text/html": [
       "<div>\n",
       "<style scoped>\n",
       "    .dataframe tbody tr th:only-of-type {\n",
       "        vertical-align: middle;\n",
       "    }\n",
       "\n",
       "    .dataframe tbody tr th {\n",
       "        vertical-align: top;\n",
       "    }\n",
       "\n",
       "    .dataframe thead th {\n",
       "        text-align: right;\n",
       "    }\n",
       "</style>\n",
       "<table border=\"1\" class=\"dataframe\">\n",
       "  <thead>\n",
       "    <tr style=\"text-align: right;\">\n",
       "      <th></th>\n",
       "      <th>Authors</th>\n",
       "      <th>Author(s) ID</th>\n",
       "      <th>from file</th>\n",
       "      <th>manual</th>\n",
       "      <th>Code</th>\n",
       "      <th>Title</th>\n",
       "      <th>smalltitle</th>\n",
       "      <th>Include/exclude</th>\n",
       "      <th>REASON for exclusion</th>\n",
       "      <th>REASON for exclusion - REAL REASON</th>\n",
       "      <th>...</th>\n",
       "      <th>CODEN</th>\n",
       "      <th>PubMed ID</th>\n",
       "      <th>Language of Original Document</th>\n",
       "      <th>Abbreviated Source Title</th>\n",
       "      <th>Document Type</th>\n",
       "      <th>Publication Stage</th>\n",
       "      <th>Open Access</th>\n",
       "      <th>Source</th>\n",
       "      <th>EID</th>\n",
       "      <th>Unnamed: 52</th>\n",
       "    </tr>\n",
       "  </thead>\n",
       "  <tbody>\n",
       "    <tr>\n",
       "      <th>1678</th>\n",
       "      <td>Epstein J., Thomas L., Monteith E.</td>\n",
       "      <td>20433710500;56996721100;57152924200;</td>\n",
       "      <td></td>\n",
       "      <td>1408.0</td>\n",
       "      <td>1408</td>\n",
       "      <td>Using operating system wrappers to increase th...</td>\n",
       "      <td>using operating system wrappers to increase th...</td>\n",
       "      <td>Include</td>\n",
       "      <td></td>\n",
       "      <td></td>\n",
       "      <td>...</td>\n",
       "      <td>CMSCE</td>\n",
       "      <td></td>\n",
       "      <td>English</td>\n",
       "      <td>Proc. Annu. Comput. Secur. Appl. Conf. ACSAC</td>\n",
       "      <td>Conference Paper</td>\n",
       "      <td>Final</td>\n",
       "      <td></td>\n",
       "      <td>Scopus</td>\n",
       "      <td>2-s2.0-84949511214</td>\n",
       "      <td></td>\n",
       "    </tr>\n",
       "    <tr>\n",
       "      <th>1679</th>\n",
       "      <td>Lala J.H.</td>\n",
       "      <td>6701790711;</td>\n",
       "      <td></td>\n",
       "      <td>1409.0</td>\n",
       "      <td>1409</td>\n",
       "      <td>Intrusion tolerant systems</td>\n",
       "      <td>intrusion tolerant systems</td>\n",
       "      <td>Include</td>\n",
       "      <td></td>\n",
       "      <td></td>\n",
       "      <td>...</td>\n",
       "      <td></td>\n",
       "      <td></td>\n",
       "      <td>English</td>\n",
       "      <td>Proc. IEEE Pac. Rim Int. Symp. Dependable Comp...</td>\n",
       "      <td>Conference Paper</td>\n",
       "      <td>Final</td>\n",
       "      <td></td>\n",
       "      <td>Scopus</td>\n",
       "      <td>2-s2.0-84949494400</td>\n",
       "      <td></td>\n",
       "    </tr>\n",
       "    <tr>\n",
       "      <th>1680</th>\n",
       "      <td>Zou B., Choobchian P., Rozenberg J.</td>\n",
       "      <td>55558490100;57222318649;36132241100;</td>\n",
       "      <td></td>\n",
       "      <td>1411.0</td>\n",
       "      <td>1411</td>\n",
       "      <td>Cyber resilience of autonomous mobility system...</td>\n",
       "      <td>cyber resilience of autonomous mobility system...</td>\n",
       "      <td>Include</td>\n",
       "      <td></td>\n",
       "      <td></td>\n",
       "      <td>...</td>\n",
       "      <td></td>\n",
       "      <td></td>\n",
       "      <td>English</td>\n",
       "      <td>J. Transp. Secur.</td>\n",
       "      <td>Article</td>\n",
       "      <td>Final</td>\n",
       "      <td></td>\n",
       "      <td>Scopus</td>\n",
       "      <td>2-s2.0-85102291373</td>\n",
       "      <td></td>\n",
       "    </tr>\n",
       "  </tbody>\n",
       "</table>\n",
       "<p>3 rows × 53 columns</p>\n",
       "</div>"
      ],
      "text/plain": [
       "                                  Authors  \\\n",
       "1678   Epstein J., Thomas L., Monteith E.   \n",
       "1679                            Lala J.H.   \n",
       "1680  Zou B., Choobchian P., Rozenberg J.   \n",
       "\n",
       "                              Author(s) ID from file  manual  Code  \\\n",
       "1678  20433710500;56996721100;57152924200;            1408.0  1408   \n",
       "1679                           6701790711;            1409.0  1409   \n",
       "1680  55558490100;57222318649;36132241100;            1411.0  1411   \n",
       "\n",
       "                                                  Title  \\\n",
       "1678  Using operating system wrappers to increase th...   \n",
       "1679                         Intrusion tolerant systems   \n",
       "1680  Cyber resilience of autonomous mobility system...   \n",
       "\n",
       "                                             smalltitle Include/exclude  \\\n",
       "1678  using operating system wrappers to increase th...         Include   \n",
       "1679                         intrusion tolerant systems         Include   \n",
       "1680  cyber resilience of autonomous mobility system...         Include   \n",
       "\n",
       "     REASON for exclusion REASON for exclusion - REAL REASON  ...  CODEN  \\\n",
       "1678                                                          ...  CMSCE   \n",
       "1679                                                          ...          \n",
       "1680                                                          ...          \n",
       "\n",
       "      PubMed ID Language of Original Document  \\\n",
       "1678                                  English   \n",
       "1679                                  English   \n",
       "1680                                  English   \n",
       "\n",
       "                               Abbreviated Source Title     Document Type  \\\n",
       "1678       Proc. Annu. Comput. Secur. Appl. Conf. ACSAC  Conference Paper   \n",
       "1679  Proc. IEEE Pac. Rim Int. Symp. Dependable Comp...  Conference Paper   \n",
       "1680                                  J. Transp. Secur.           Article   \n",
       "\n",
       "     Publication Stage Open Access  Source                 EID Unnamed: 52  \n",
       "1678             Final              Scopus  2-s2.0-84949511214              \n",
       "1679             Final              Scopus  2-s2.0-84949494400              \n",
       "1680             Final              Scopus  2-s2.0-85102291373              \n",
       "\n",
       "[3 rows x 53 columns]"
      ]
     },
     "execution_count": 32,
     "metadata": {},
     "output_type": "execute_result"
    }
   ],
   "source": [
    "# read the csv file set 1\n",
    "\n",
    "os.chdir('C:\\\\Users\\\\bbhat\\\\Downloads\\\\MRP')\n",
    "os.getcwd()\n",
    "\n",
    "my_df1 = pd.read_csv('Scopus Articles - FINAL v1.csv')\n",
    "print(my_df1.shape)\n",
    "my_df1 = my_df1.replace(np.nan,'')\n",
    "my_df1.tail(3)"
   ]
  },
  {
   "cell_type": "code",
   "execution_count": 33,
   "metadata": {
    "id": "uz1pdSfslmaC",
    "outputId": "293f58c9-fa97-487e-96a9-53b66ba32ce6",
    "scrolled": true
   },
   "outputs": [
    {
     "name": "stdout",
     "output_type": "stream",
     "text": [
      "(1294, 7)\n"
     ]
    },
    {
     "data": {
      "text/html": [
       "<div>\n",
       "<style scoped>\n",
       "    .dataframe tbody tr th:only-of-type {\n",
       "        vertical-align: middle;\n",
       "    }\n",
       "\n",
       "    .dataframe tbody tr th {\n",
       "        vertical-align: top;\n",
       "    }\n",
       "\n",
       "    .dataframe thead th {\n",
       "        text-align: right;\n",
       "    }\n",
       "</style>\n",
       "<table border=\"1\" class=\"dataframe\">\n",
       "  <thead>\n",
       "    <tr style=\"text-align: right;\">\n",
       "      <th></th>\n",
       "      <th>Unnamed: 0</th>\n",
       "      <th>Code</th>\n",
       "      <th>Full text</th>\n",
       "      <th>Full text without references</th>\n",
       "      <th>blank</th>\n",
       "      <th>english lang</th>\n",
       "      <th>remove manually</th>\n",
       "    </tr>\n",
       "  </thead>\n",
       "  <tbody>\n",
       "    <tr>\n",
       "      <th>1291</th>\n",
       "      <td>1321</td>\n",
       "      <td>1408</td>\n",
       "      <td>Using Operating System Wrappers to Increase th...</td>\n",
       "      <td>Using Operating System Wrappers to Increase th...</td>\n",
       "      <td>No</td>\n",
       "      <td>en</td>\n",
       "      <td>No</td>\n",
       "    </tr>\n",
       "    <tr>\n",
       "      <th>1292</th>\n",
       "      <td>1322</td>\n",
       "      <td>1409</td>\n",
       "      <td>Intrusion Tolerant Systems (cid:0)\\n\\nPartha P...</td>\n",
       "      <td>Intrusion Tolerant Systems (cid:) Partha P. Pa...</td>\n",
       "      <td>No</td>\n",
       "      <td>en</td>\n",
       "      <td>No</td>\n",
       "    </tr>\n",
       "    <tr>\n",
       "      <th>1293</th>\n",
       "      <td>1323</td>\n",
       "      <td>1411</td>\n",
       "      <td>Journal of Transportation Security (2021) 14:1...</td>\n",
       "      <td>Journal of Transportation Security () :–  Cybe...</td>\n",
       "      <td>No</td>\n",
       "      <td>en</td>\n",
       "      <td>No</td>\n",
       "    </tr>\n",
       "  </tbody>\n",
       "</table>\n",
       "</div>"
      ],
      "text/plain": [
       "      Unnamed: 0  Code                                          Full text  \\\n",
       "1291        1321  1408  Using Operating System Wrappers to Increase th...   \n",
       "1292        1322  1409  Intrusion Tolerant Systems (cid:0)\\n\\nPartha P...   \n",
       "1293        1323  1411  Journal of Transportation Security (2021) 14:1...   \n",
       "\n",
       "                           Full text without references blank english lang  \\\n",
       "1291  Using Operating System Wrappers to Increase th...    No           en   \n",
       "1292  Intrusion Tolerant Systems (cid:) Partha P. Pa...    No           en   \n",
       "1293  Journal of Transportation Security () :–  Cybe...    No           en   \n",
       "\n",
       "     remove manually  \n",
       "1291              No  \n",
       "1292              No  \n",
       "1293              No  "
      ]
     },
     "execution_count": 33,
     "metadata": {},
     "output_type": "execute_result"
    }
   ],
   "source": [
    "# read the csv file set 2\n",
    "\n",
    "os.chdir('C:\\\\Users\\\\bbhat\\\\Downloads\\\\MRP\\\\Final Files')\n",
    "os.getcwd()\n",
    "my_df2 = pd.read_csv('Stage 3 - Relevant new papers.csv')\n",
    "print(my_df2.shape)\n",
    "my_df2.tail(3)"
   ]
  },
  {
   "cell_type": "code",
   "execution_count": 34,
   "metadata": {
    "id": "eg3xHRFqlmaE",
    "outputId": "d4ce0de0-04b9-4f16-8c41-3aaf7e45c4b8",
    "scrolled": true
   },
   "outputs": [
    {
     "data": {
      "text/html": [
       "<div>\n",
       "<style scoped>\n",
       "    .dataframe tbody tr th:only-of-type {\n",
       "        vertical-align: middle;\n",
       "    }\n",
       "\n",
       "    .dataframe tbody tr th {\n",
       "        vertical-align: top;\n",
       "    }\n",
       "\n",
       "    .dataframe thead th {\n",
       "        text-align: right;\n",
       "    }\n",
       "</style>\n",
       "<table border=\"1\" class=\"dataframe\">\n",
       "  <thead>\n",
       "    <tr style=\"text-align: right;\">\n",
       "      <th></th>\n",
       "      <th>Authors</th>\n",
       "      <th>Author(s) ID</th>\n",
       "      <th>from file</th>\n",
       "      <th>manual</th>\n",
       "      <th>Code</th>\n",
       "      <th>Title</th>\n",
       "      <th>smalltitle</th>\n",
       "      <th>Include/exclude</th>\n",
       "      <th>REASON for exclusion</th>\n",
       "      <th>REASON for exclusion - REAL REASON</th>\n",
       "      <th>...</th>\n",
       "      <th>CODEN</th>\n",
       "      <th>PubMed ID</th>\n",
       "      <th>Language of Original Document</th>\n",
       "      <th>Abbreviated Source Title</th>\n",
       "      <th>Document Type</th>\n",
       "      <th>Publication Stage</th>\n",
       "      <th>Open Access</th>\n",
       "      <th>Source</th>\n",
       "      <th>EID</th>\n",
       "      <th>Unnamed: 52</th>\n",
       "    </tr>\n",
       "  </thead>\n",
       "  <tbody>\n",
       "    <tr>\n",
       "      <th>0</th>\n",
       "      <td>Luo Y.</td>\n",
       "      <td>7404332342;</td>\n",
       "      <td></td>\n",
       "      <td></td>\n",
       "      <td>0</td>\n",
       "      <td>A general framework of digitization risks in i...</td>\n",
       "      <td>a general framework of digitization risks in i...</td>\n",
       "      <td>Exclude</td>\n",
       "      <td>Cyber Resilience is not the main focus</td>\n",
       "      <td>Cybersecurity resilience not the main focus</td>\n",
       "      <td>...</td>\n",
       "      <td></td>\n",
       "      <td></td>\n",
       "      <td>English</td>\n",
       "      <td>J. Int. Bus. Stud.</td>\n",
       "      <td>Article</td>\n",
       "      <td>Final</td>\n",
       "      <td>All Open Access, Bronze, Green</td>\n",
       "      <td>Scopus</td>\n",
       "      <td>2-s2.0-85106752103</td>\n",
       "      <td></td>\n",
       "    </tr>\n",
       "    <tr>\n",
       "      <th>1</th>\n",
       "      <td>Helkala K.M., Rønnfeldt C.F.</td>\n",
       "      <td>15061581000;57567876400;</td>\n",
       "      <td></td>\n",
       "      <td></td>\n",
       "      <td>0</td>\n",
       "      <td>Understanding and Gaining Human Resilience Aga...</td>\n",
       "      <td>understanding and gaining human resilience aga...</td>\n",
       "      <td>Exclude</td>\n",
       "      <td>Cyber Resilience is not the main focus</td>\n",
       "      <td>Cybersecurity resilience not the main focus</td>\n",
       "      <td>...</td>\n",
       "      <td></td>\n",
       "      <td></td>\n",
       "      <td>English</td>\n",
       "      <td>Comput. Methods Appl. Sci.</td>\n",
       "      <td>Book Chapter</td>\n",
       "      <td>Final</td>\n",
       "      <td></td>\n",
       "      <td>Scopus</td>\n",
       "      <td>2-s2.0-85127840105</td>\n",
       "      <td></td>\n",
       "    </tr>\n",
       "    <tr>\n",
       "      <th>2</th>\n",
       "      <td>Paik J.-Y., Jin R., Cho E.-S.</td>\n",
       "      <td>35189419700;36069555900;7202650607;</td>\n",
       "      <td></td>\n",
       "      <td></td>\n",
       "      <td>0</td>\n",
       "      <td>Malware classification using a byte-granularit...</td>\n",
       "      <td>malware classification using a byte-granularit...</td>\n",
       "      <td>Exclude</td>\n",
       "      <td>Cyber Resilience is not the main focus</td>\n",
       "      <td>Cybersecurity resilience not the main focus</td>\n",
       "      <td>...</td>\n",
       "      <td>COMIE</td>\n",
       "      <td></td>\n",
       "      <td>English</td>\n",
       "      <td>Comput Intell</td>\n",
       "      <td>Article</td>\n",
       "      <td>Article in Press</td>\n",
       "      <td></td>\n",
       "      <td>Scopus</td>\n",
       "      <td>2-s2.0-85127456347</td>\n",
       "      <td></td>\n",
       "    </tr>\n",
       "  </tbody>\n",
       "</table>\n",
       "<p>3 rows × 53 columns</p>\n",
       "</div>"
      ],
      "text/plain": [
       "                         Authors                         Author(s) ID  \\\n",
       "0                         Luo Y.                          7404332342;   \n",
       "1   Helkala K.M., Rønnfeldt C.F.             15061581000;57567876400;   \n",
       "2  Paik J.-Y., Jin R., Cho E.-S.  35189419700;36069555900;7202650607;   \n",
       "\n",
       "  from file manual  Code                                              Title  \\\n",
       "0                      0  A general framework of digitization risks in i...   \n",
       "1                      0  Understanding and Gaining Human Resilience Aga...   \n",
       "2                      0  Malware classification using a byte-granularit...   \n",
       "\n",
       "                                          smalltitle Include/exclude  \\\n",
       "0  a general framework of digitization risks in i...         Exclude   \n",
       "1  understanding and gaining human resilience aga...         Exclude   \n",
       "2  malware classification using a byte-granularit...         Exclude   \n",
       "\n",
       "                     REASON for exclusion  \\\n",
       "0  Cyber Resilience is not the main focus   \n",
       "1  Cyber Resilience is not the main focus   \n",
       "2  Cyber Resilience is not the main focus   \n",
       "\n",
       "            REASON for exclusion - REAL REASON  ...  CODEN  PubMed ID  \\\n",
       "0  Cybersecurity resilience not the main focus  ...                     \n",
       "1  Cybersecurity resilience not the main focus  ...                     \n",
       "2  Cybersecurity resilience not the main focus  ...  COMIE              \n",
       "\n",
       "  Language of Original Document    Abbreviated Source Title Document Type  \\\n",
       "0                       English          J. Int. Bus. Stud.       Article   \n",
       "1                       English  Comput. Methods Appl. Sci.  Book Chapter   \n",
       "2                       English               Comput Intell       Article   \n",
       "\n",
       "  Publication Stage                     Open Access  Source  \\\n",
       "0             Final  All Open Access, Bronze, Green  Scopus   \n",
       "1             Final                                  Scopus   \n",
       "2  Article in Press                                  Scopus   \n",
       "\n",
       "                  EID Unnamed: 52  \n",
       "0  2-s2.0-85106752103              \n",
       "1  2-s2.0-85127840105              \n",
       "2  2-s2.0-85127456347              \n",
       "\n",
       "[3 rows x 53 columns]"
      ]
     },
     "execution_count": 34,
     "metadata": {},
     "output_type": "execute_result"
    }
   ],
   "source": [
    "my_df1.head(3)"
   ]
  },
  {
   "cell_type": "code",
   "execution_count": 35,
   "metadata": {
    "id": "u0O8yetulmaG",
    "outputId": "e7d26cac-4f31-49f7-b0f4-868b9295394b"
   },
   "outputs": [
    {
     "name": "stdout",
     "output_type": "stream",
     "text": [
      "(1294, 59)\n",
      "(1252, 59)\n"
     ]
    }
   ],
   "source": [
    "# aggregation\n",
    "my_df = my_df2.merge(my_df1, how= 'inner')\n",
    "print(my_df.shape)\n",
    "my_df = my_df[my_df['Include/exclude'] != 'Exclude']\n",
    "print(my_df.shape)"
   ]
  },
  {
   "cell_type": "code",
   "execution_count": 36,
   "metadata": {
    "scrolled": true
   },
   "outputs": [
    {
     "data": {
      "text/plain": [
       "\"The current issue and full text archive of this journal is available on Emerald Insight at:  Reﬁning the PoinTER “human ﬁrewall” pentesting framework Jacqueline M. Archibald and Karen Renaud School of Design and Informatics, University of Abertay, Dundee, UK Abstract Purpose – Penetration tests have become a valuable tool in the cyber security defence strategy in terms of detecting vulnerabilities. Although penetration testing has traditionally focussed on technical aspects, the ﬁeld has started to realise the importance of the human in the organisation, and the need to ensure that humans are resistant to cyberattacks. To achieve this, some organisations “pentest” their employees, testing their resilience and ability to detect and repel human-targeted attacks. In a previous paper, the authors reported on PoinTER (Prepare TEst Remediate), a human pentesting framework, tailored to the needs of SMEs. This paper aims to propose improvements to reﬁne the framework. The improvements are based on a derived set of ethical principles that have been subjected to ethical scrutiny Design/methodology/approach – The authors conducted a systematic literature review of academic research, a review of actual hacker techniques, industry recommendations and ofﬁcial body advice related to social engineering techniques. To meet the requirements to have an ethical human pentesting framework, the authors compiled a list of ethical principles from the research literature which they used to ﬁlter out techniques deemed unethical. Findings – Drawing on social engineering techniques from academic research, reported by the hacker community, industry recommendations and ofﬁcial body advice and subjecting each technique to ethical inspection, using a comprehensive list of ethical principles, the authors propose the reﬁned GDPR-compliant and privacy respecting PoinTER framework. The list of ethical principles, as suggested, could also inform ethical technical pentests. Originality/value – Previous work has considered penetration testing humans, but few have produced a comprehensive framework such as PoinTER. PoinTER has been rigorously derived from multiple sources and ethically scrutinised through inspection, using a comprehensive list of ethical principles derived from the research literature. Keywords Social engineering, Ethical framework, Human pentesting Paper type Conceptual paper . Introduction The Federation of Small Businesses reports that there were . million small businesses in the UK at the start of , providing  per cent of all private sector employment in the UK. The UK’s National Cyber Security Centre (NCSC) () published a cyber security guide for small businesses. They commence by saying that small businesses have a  in  chance of experiencing a cyber security breach, which could result in a loss of £,. The incidence of breaches is conﬁrmed by a report published by Kaspersky in , which reported that almost half ( per cent) of the SMEs they surveyed had indeed experienced at least one data breach. In terms of consequences, The Information Security Breaches Survey [], commissioned by the Department for Business, Innovation and Skills (BIS) and carried out by PwC, reported that the worst SME-related breaches cost between £, and £,, on average. Liwer () reports that  per cent of hacked small businesses do not recover and stop trading as a consequence of being attacked. The sheer scale of the problem could have a devastating effect on the UK economy and needs serious attention. “Human ﬁrewall” pentesting framework  Received  Revised  Accepted  Information & Computer Security Vol.  No. ,  pp. - © Emerald Publishing Limited - DOI ./ICS--- ICS ,  Why are SMEs so vulnerable? Kaspersky () reports that the majority of SMEs ( per cent) were sure they were reliably protected from cyberattacks. This mistaken sense of invulnerability suggests either that they do not understand how to detect vulnerabilities or that they are reluctant to search for vulnerabilities. Liwer () suggests that this is due to the fact that they usually do not use in-house IT staff to take care of security, nor are they able to train their staff as large organisations are able to do. It could also be that larger businesses are becoming harder to attack, leading cyber criminals to look for easier targets. SMEs are in the uneviable position of being increasingly targeted by cyber criminals but do not have the ﬁnancial resources to defend themselves as well as large companies (Saleem, ; Wlasuk, ). The National Cybersecurity Centre (NCSC, ) provides ﬁve distinct sets of advice to small businesses to help them to prevent such a breach from occurring. Even if SMEs do follow this advice, it is important to test the efﬁcacy of the measures they are taking, especially in the light of the new European GDPR legislation, which can impose signiﬁcant ﬁnes in the case of a data breach. Employees are often considered both the greatest asset in an organisation, and the most vulnerable target of hackers (Olavsrud, , p. ). Burkhead () says “There are many different types of technology vulnerabilities and processes for attacking them with many different results; however, the one constant is the human aspect of information security” (p. ). Humans trust other humans; that is the reality, and we cannot change human nature (Thornburgh, ; Abraham and Chengalur-Smith, ). Yet we can make people who are more aware of the nefarious techniques used by hackers deploying social engineering techniques. SMEs can use security companies to test their systems’ security. In this way, vulnerabilities can be detected by an impartial and objective party. Most important is the fact that this investigator is not malicious. This procedure is referred to as “carrying out a penetration test” (pentest), which aims to reveal vulnerabilities in the company’s defences. The idea is that these can be addressed before malicious actors potentially ﬁnd and exploit them. Many penetration tests are primarily focussed on detecting technical vulnerabilities (Yeo, ; Tiller, ; Bacudio, ; Cooper, ). Even the NCSC’s guidance on penetration testing does not include any advice on how to pentest the human in the socio-technical system[]. We commence our discussion with a brief review of social engineering and of penetration testing’s role in resisting such efforts. We then report on a systematic literature review of research into human-focussed pentests, to compile a full list of tests that ought to be carried out. We also looked at what hackers themselves have to say about how they exploit humans, and then what cybersecurity industry reports say about how to defend against human- targeted hacks. Finally, we reviewed the advice that ofﬁcial bodies give with respect to making the human in the socio-technical system resilient to such attacks. Because our framework seeks to be ethical, we then proceeded to compile a comprehensive list of ethical principles from the research literature, which we used to ﬁlter out techniques that could be considered to be unethical. In concluding, we propose a reﬁnement of the GDPR compliant and privacy respecting PoinTER (Prepare TEst Report) Human Pentesting Framework (Archibald and Renaud, ). The techniques included in the reﬁned framework have been rigorously derived and ethically scrutinised. The research methodology is depicted in Figure . . Social engineering: context . A historical perspective Social engineering is an ancient technique. The difference now is that the social engineer can approach and exploit a victim remotely, without needing to be in the same time and place as the victim. Some examples of historical social engineering will illustrate the roots of modern social engineering. Consider the biblical story of Adam and Eve, who were told not to eat fruit from the tree of life. Yet the snake (the social engineer) enticed Eve to eat the fruit, and she took the bait. In Greek mythology, the leader of the Greek army tricked the Trojan army offering them a gift of a huge wooden horse better known as the Trojan Horse (Burton, ). The Trojans accepted the gift of the horse, dragged it into their enclosure, and thereby allowed the attackers in, in much the same way as Phish recipients unwittingly permit Phishers to access their systems. In the ’s, Frank Abagnale successfully impersonated a commercial pilot, a doctor, a lawyer and a teacher (Frank and Stan, ), and Kevin Mitnick (Mitnick and Simon, ) was also able to impersonate someone in authority to gain access to company premises. . Exploiting human nature As the social engineers in history found, they could rely on people’s tendency to be helpful and empathetic, exploiting the best of human nature to compromise security (Chabrow, ). Hinson () explains that social engineers exploit the human tendency to trust, helpfulness, respect for authority, unawareness and carelessness. These are also mentioned by Luo () and Applegate (). Hasan () refers to the ordinary employee’s inability to second guess people’s actual motives, which allows social engineering attacks to succeed. One could refer to this as gullibility, which occurs due to a lack of awareness of social engineer techniques. Thornburgh () also refers to this aspect and adds greed, fear and empathy as human tendencies that social engineers exploit. Fear and empathy are also mentioned by Rader and Rahman (). Mouton () add the establishing of rapport between social engineer and target victim. Chantler and Broadhurst () mention triggering a strong emotion, helpfulness and respect for authority, as well as overloading the senses of the victim so that he or she is more likely to act without due consideration. Krombholz () add curiosity to this list, which is also conﬁrmed by Rader and Rahman (). Wright () explore the use of persuasion in social engineering attacks. Greavu- S(cid:) erban and S(cid:) erban () refer to speciﬁc persuasion techniques: simplicity, self- interest, incongruity, conﬁdence, trust and empathy. Cialdini (), a persuasion expert, mentions core principles of persuasion: reciprocity, social proof, sympathy, authority, consistency, and rarity. Chantler and Broadhurst () also mention reciprocation in the establishing of a relationship between deceiver and victim. Oliveira () mention the way social engineers exploit personal vulnerabilities, which they discover by doing research into the victim’s personal interests, thereby enticing them to click on a link. “Human ﬁrewall” pentesting framework  Figure . Depiction of research methodologyNotes: (Ti = social engineering techniques, Ei = ethical principles) ICS ,  Actual attacks: Nelms () reviewed hundreds of social engineering attacks and provided a detailed analysis of the techniques used by social engineers based on a study of  attacks. They report that the top three techniques used by social engineers are alarming (. per cent), enticing (. per cent) and invoking compliance (. per cent). Tetri and Vuorinen () also mention manipulation and ﬂirting. All of these exploits would not work on a computer because computers do not have humanity. The social engineer exploits the best of human nature to achieve their nefarious aims. This makes such attacks particularly challenging to train people to resist. The next sections will consult a number of sources to compile a list of techniques used by social engineers to exploit these aspects of human nature. . Penetration testing Pentest plans are usually formulated with larger companies in mind, especially when it comes to proposed remediations, which is often infeasible for SMEs to apply (Berger and Jones, ). The NCSC () rates hackers in terms of sophistication: () None (“Can carry out random acts of disruption or destruction by running tools they do not understand”), all the way through to Minimal, Intermediate, Advanced, Expert and Innovator, to Strategic (“State actors who create vulnerabilities through an active programme to inﬂuence commercial products and services during design, development or manufacturing, or with the ability to impact products while in the supply chain to enable exploitation of networks and systems of interest”). They recommend that when looking at a company’s cyber security, the deﬁnition of security should be made explicit. Therefore, for example, for an SME, it might mean “Is it secure against attacks requiring an Intermediate level of capability?” Another aim could be to improve employee resilience, as opposed merely maximising resistance. Resistance is about avoiding adverse events (Arenaza-Urquijo and Vemuri, ). Resistance is only feasible when it is actually possible to avoid the risk being resisted. When  per cent avoidance via resistance is impossible, we have to build resilience into the system too. Resilience is about learning to cope with the reality of a situation. It refers to a community’s ability to recover to pre-event levels of functioning after an adverse event (Gardi, ). There is a need to balance resistance and resilience efforts (Paz, ). PWC says: “achieving greater cyber resilience as a society and within organisations will require a more concerted effort to uncover and manage new risks inherent in emerging technologies” (Castelli, , p.). . Systematic literature review . The review We conducted a rigorous literature search investigating the issue of pentesting employees within organisations. We searched through a number of databases from the year  onwards, as detailed in Table I. We concluded by checking Google Scholar for missing papers. We ﬁltered out publications that were not written in English and excluded patents. We used Google Scholar citation index service to perform a forward search. The backward search was conducted manually. We used the following keywords for our search: (cid:) human/employee/user pentest/“penetration test” ((human or employee or user) and (pentest or” penetration test”)) “hacking the human”; human/employee/user pentest/“penetration test”; and social engineering test employee/user (þ pentest/“penetration test”) (cid:) (cid:) We conducted a full-text search. The databases were searched to identify publications that contained at least one of the above combinations. We then applied the deﬁned inclusion and exclusion criteria. Following this process, only  publications remained. Table I shows the number of publications for each database search; how many were excluded and how many were retained for analysis. Table I shows the number of publications for each database search, how many were excluded and how many remained for analysis. Table II now presents the outcome of our analysis of the  publications related to human-related hacking. The papers’ reported techniques fell naturally into six categories. “Human ﬁrewall” pentesting framework  . Analysis Few of the papers we review go into much detail about exactly how to “Penetration Test” the organisation’s humans. Some do provide guidance that is helpful in informing the reﬁnement of our PoinTER framework. Hadnagy () names key social engineering techniques (Ti) that an audit should address, as do others. Here is a superset of the techniques they mention: (cid:) T: Phish employees: (Bowen, ) this is Nelms ()’s “enticing”; Abraham and Chengalur-Smith, ’s greed/curiosity. This tests whether employees will click on links in emails or open attachments (simulated Phishing attack). (cid:) T: Cloning Websites: determine whether an employee can be enticed to visit a website and provide their credentials to the site (cid:) T: Ask for Information: ﬁnd out how much information can be obtained via the phone or in-person (pretexting in-person attacks) (Cialdini, ’s persuasion via authority, liking and consensus; Evans, ) (cid:) T: Hygiene: assess physical security (Baiting, Piggybacking) (Lively, ’s Helpfulness attack vector) (cid:) T: Media Drop: see whether employees will plug a USB into their work computer (Nelms ()’s “enticing” and Abraham and Chengalur-Smith, ’s curiosity) . How hackers exploit humans . Exploitation Dicosmo () calls hackers “con artists”, which means that they have knowledge of human nature and of how to exploit it. The techniques mentioned by Hadnagy () exploit such human propensities. Mitnick, a well-known hacker who was arrested and served time for Source # Returned # Eliminated # Retained Theses: ProQUEST, Ethos, DART, PQDT, Ebsco SCOPUS ACM Digital Library  Xplore Springer JSTOR ERIC  Google Scholar                            Table I. Systematic literature search for relevant publications ICS ,  Table II. Categorising reviewed research publications Issue addressed Aspects studied Awareness Phishing training Measuring resilience to social engineering Counter measures Awareness and Training (Smith and Shorter, ; Chaudhary, ; Chuenchujit, ; Long, ; Tarallo, ; Snyder, ; Von Solms and Warren, ; Hadnagy, ; Spinapolice, ; Abraham and Chengalur- Smith, ; Schaeken, ; Tikkanen, ; Toussaint, ; Walker, ; Labossiere, ; Laribee, ; Beckers, ; Schaeken, ; Walker, ; Halevi, ) Vaccinating via building Competence (Jansson, ) Withstanding Deception Techniques: Having a plan, training people in implementing the plan, and incorporating the human elements of security into information security incident response (Burkhead, ) Ethical experiments to mimic Phishing Attacks using opt out and debrief (Resnik and Finn, ) Anti-phishing Framework (Frauenstein, ) Trust focussed education framework (AL-Hamar, ) Security Primer for Senior Executives (Toussaint, ) A COSO-focussed Social Engineering Threat/Risk Assessment (Kiama, ) Combining measuring exercises and penetration testing with training. (Nohlberg, ) Conduct extensive security audits (Snyder, ) Phishing IQ Test, Comics, Games (Chaudhary, ) Leadership, Knowledge Sharing, Measurement Actual Behaviours (Flores, ; Okoye, ) Vulnerability Assessments (Tarallo, ) Technical Detection (Edwards, ; Chuenchujit, ) Law and Regulation at global level, (Bendovschi, ), (DOGANA, ) Strengthening Policies (Snyder, ; Okoye, ; Spinapolice, ; Tarallo, ) Establish culture of security and accountability (Adewole and Durosinmi, ; Spinapolice, ) Physical access or scouting Develop scripts (Snyder, ; Hadnagy, ) Social media (enabling scouting) Awareness of risks (Snyder, ) Tailored training (Schaeken, ) Age-related Targeted Training (Slonka, ) social engineering activities, said, “The key to social engineering is inﬂuencing a person to do something that allows the hacker to gain access to information or your network.” (Mitnick and Simon, ). Given that Phishing is the most common method of social engineering[], hackers are increasingly being brought to book for carrying out Phishing campaigns. Two recent examples are Eric Donys Simeu (Dark Reading, ) and Ryan Collins (Robertson, ). A number of famous attacks have been achieved by means of Phishing attacks: (cid:) (cid:) (cid:) : RSA SecurID. Attackers sent RSA employees an email with an Excel attachment titled  Recruitment Plan. They opened it, and a zero-day Flash exploit installed itself onto their systems (Zetter, ). : Yahoo Customer Account Compromise: A semi-privileged engineer at Yahoo fell for a spear phishing email. The hackers compromised more than three billion accounts (Larson, ). : Associated Press Twitter: The attack began as a spear phishing email to Associated Press employees that appeared to come from other employees of the “Human ﬁrewall” pentesting framework  Associated Press. It came from the Syrian Electronic Army. The email included a link to a phishing site where the employees entered login information for the Associated Press Twitter account. The Syrian Electronic Army posted a tweet that the White House had been bombed and that President Obama had been injured. The DOW dropped  points – about $bn – before rebounding (Fisher, ). : Sony Pictures: A phishing attack gave hackers access to Sony’s systems. They lost a number of unreleased ﬁlms and many personal emails (Alvarez, ) : Ubiquiti Networks Scam: The accounting department received an email seeming to come from the company’s Hong Kong subsidiary. It contained instructions changing payment account details, which the accounting department followed (Eng, ). (cid:) (cid:) How else do hackers exploit people? Way back in , a hacker called Captain Zap hacked into AT&T's computers. In an interview, he said: The reality is that the likes of Microsoft and Oracle, the others who control the technologies that are now so fully entrenched in our so-called information society are still causing the failure of the security of millions due to their greed and inability to allow others to see the magic behind the scenes. He explains, “An authoritarian voice with the right combination of buzz words and a bit of humor will get you past anyone on the phone.” In , Carlos Héctor Flomenbaum gained employees’ conﬁdence at the ABM AMRO bank in Belgium over a yearlong period. He then stole  million dollars in diamonds simply by being charming and friendly to staff, leading them to give him access to secure boxes (Castle, ). In , US Presidential candidate Sarah Palin’s email account was accessed by a hacker called David Kernell, who used publicly available information about her to guess the answers to her security questions (WIRED, ). These kinds of attacks might seem ancient history a decade later, but recent hacker arrests show that these techniques still work (Brewster, ). It does not seem to require much expertise to deploy social engineering techniques. In , a British teenager, Kane Gamble, was sentenced to two years for impersonating the head of the CIA, and conning call centres into divulging conﬁdential information (BBC, ). Justin Liverman (Thomson, ) was sentenced to  months for his part in attempting to hack US Government websites. Liverman hired a phone spamming service to harass Deputy Director Giuliano, attempting to elicit fear and disruption, as part of a long-term social engineering drive. Another hacker, George Garofano, posed as a member of Apple's online security team and sent emails to the victims asking for their usernames and passwords (Grinberg and Chavez, ). Garofano stole personal photos, and was sentenced to  months in prison in May . Curran () spent three weeks reading a Russian hacker platform on the dark Web. He reported that the hacking community actively supports each other, sharing exploits, even posting videos to make it easier for others to use the exploits. He discovered detailed instructions for social engineering: Social engineering, in terms of hacking, is when you use some clever psychology to make a member of a company trust you and bypass security protocol. A common one is to ring the customer support of a company, and mask your number to mimic that of an internal phone number. You then play the fool and say you can’t access a website where you normally could have, and that it’s important to access it for an angry client. You then give the customer support agent a link to the website. The catch, is that you have made a fake website which has a Trojan ready to be deposited on to the agent’s computer. The hacker then has access to the company’s internal network. ICS ,  This conﬁrms the growing popularity of social engineering attacks. . Summary The consolidated techniques suggested by this hacker review are (continuing numbering from the previous list): (cid:) T: Spear Phishing without permission: exploiting vulnerabilities as explained by (Oliviera, ). (cid:) T: Guessing Passwords: exploiting well-known human tendencies to choose passwords related to their personal lives (Stobert and Biddle, ). (cid:) T: In Person Impersonation: as mentioned by Hinson () and Chantler and Broadhurst (). (cid:) T: Vishing: usually exploiting gullibility and respect for authority or even fear (Yeboah-Boateng and Amanor, ). . What does the cybersecurity industry advice? It is instructive to consider what cybersecurity professionals and companies have to say about hacking humans. Rayome () says Social Engineering was the second most popular method used by cyber criminals in  ( per cent). Goldschmidt () says that social engineering is the new norm in hacking. The techniques he reports hackers using are: (cid:) (cid:) (cid:) (cid:) (cid:) phishing; impersonating a legitimate visitor; tailgating; reading RFIDs of access cards by standing close to an employee; and posing as a contractor. He considers raising awareness to be the key to building employee resilience. He also suggests sending out fake Phish messages to measure resilience. He recommends improving physical access systems to make it harder for hackers to gain physical access. Finally, he recommends including employees in company defence protocols i.e. ensuring that they are considered part of the company’s cybersecurity defensive perimeter. Mitnick () mentions a number of hacker tricks: (cid:) targeting non-IT staff with Phishes; cloning well known websites and enticing staff into visiting these; and creating a WiFi hotspot and enticing people to connect to these. (cid:) (cid:) recommends awareness-raising sessions and regular penetration testing as He ameliorations. Tulloch () interviewed Sergii Nesterenko, a cybersecurity consultant and penetration tester, about cyber security. He mentions the following tests: (cid:) Phishing messages that trigger an emotion such as fear or greed; or (cid:) impersonating a trusted entity, He argues for raising awareness and creating competency. Lanier () cites a number of techniques used by social engineers: (cid:) (cid:) (cid:) fake website; impersonating IT helpdesk staff; and remote online social engineering (ROSE). This technique plays the long game and is sometimes called catﬁshing (Jeske and Van Schaik, ). The hacker builds rapport with “marks” within an organisation. The aim is to elicit sensitive information, gather material for extortion and persuade employees to take actions leading to compromises. Cameron () reports on a talk by Gizmodo, which mentioned techniques used by penetration testers: (cid:) cloning security badges; “Human ﬁrewall” pentesting framework  (cid:) wiretapping; (cid:) using a maid’s sympathy to gain access; pizza delivery; scan RFID access control cards; and simply asking for information. (cid:) (cid:) (cid:) The social engineering framework (Security Through Education, ) mentions testing using the following techniques: phishing, vishing, impersonation and SMiShing. The techniques that emerge from this review include: T, T, T, T conﬁrmed: (cid:) T: enticing people to use a rogue WiFi: exploits human desire for convenience (Mitnick, ) (cid:) T: SMiShing: exploits some of the same human vulnerabilities mentioned in the previous section (Yeboah-Boateng and Amanor, ). . What advice do oﬃcial bodies oﬀer? A number of ofﬁcial bodies issue SME-speciﬁc cyber advice, related to social engineering attacks, which direct us towards techniques we could use in our framework: The review summarised in Table III conﬁrms T, T, T, T, and introduces: (cid:) T: Physical Security. Having compiled a comprehensive list of social engineering techniques (T-T), we now consider the ethical considerations that should constrain the techniques an ethical pentester deploys. . Ethical principles and scrutiny . The principles When considering the ethics of hacking humans the literature suggest a number of principles that should be followed or avoided. Table IV depicts these principles in relation to employees, the pentest authoriser and the pentester with their interdependence depicted in Figure . . Ethical scrutiny of social engineering techniques We now subject our list of social engineering techniques (T-T) to ethical scrutiny, using the ethical principles (E-E) to consider whether they are indeed ethical or not. ICS ,  T: cloning legitimate websites T: phishing T: media drop T: in-person attacks T: physical security NCSC () Get Safe Onlinea London Digital Security Centreb Federation of Small Businessesc Federal Trade Commissiond Federal Communications Commission (FCC)e NISTf l l l l l l l l l l l l l l l l l l Table III. Advice from ofﬁcial bodies a Notes: b c ﬁve-cyber-security-tips-for-small-businesses; d e f cybersecurity; documents/.. Scattergun phishing. Many organisations phish their own employees to test their ability to spot these emails. Indeed, a number of companies offer this as a service[]. Yet, Murdock and Sasse () argue that these campaigns are not only ineffective but also actually damaging to organisations. At one organisation, an internal Phish simulation generated severe internal trust problems. That being so, should a human pentesting framework include a Phish simulation? If we decide not to include it, we do not test resilience for the method most likely to be used by social engineers. On the other hand, Caputo () found that these campaigns do not reduce the percentages of people falling for Phishing messages. Moreover, even experts fall for a well targeted Phish, despite their knowledge and experience[]. Is it realistic to expect a one-off intervention, in the form of a simulated Phish, to improve security in the long term? If the organisation does want to include a Phish simulation, is there a way of simulating a Phish campaign while minimising the negative effects reported by Murdoch and Sasse and respecting ethical principles E-E in Table IV? (cid:) (cid:) (cid:) In the ﬁrst place, the Phish email should not look too much like a valid email sent from someone within the company. This kind of email may look too much like entrapment, and also, by using the name of an employee, the campaign might unwittingly cast mud in their direction and this mud might cling. The deception that is used should be mediated according to principle E. Second, the Phish should not be targeted at the speciﬁc employee, i.e. not use data gathered about the employee to explicitly target the employee’s weaknesses. This aligns with E. In the third place, we need to think very carefully about what happens if people click. The PoinTER framework already does not identify those who fall for the Phish. If this were done, companies would probably want to use this information to either send people for more training or punish them in some way. This would conﬂict with principle E. .. Spear phishing. Our review shows that hackers do indeed deploy spear phishing as an attack vector (TREND Micro, ), and many are speciﬁcally targeting SMEs (Pickard- i d l a b h c r A d u a n e R d n a . l a t e y l i a F r e l l i T p p o s l l A v o k m D i d n a k n s e R i n n F i . l a t e e c r e i P y d e n n e K y g a n d a H )     ( )     ( )     ( )     ( )     ( . l a t e )     ( n n F i )     ( )     ( )     ( . l a t e )     (    (cid:) (cid:) (cid:) (cid:) (cid:) (cid:)   (cid:) (cid:) (cid:)  (cid:) (cid:)   (cid:) (cid:) (cid:)     (cid:) (cid:)  (cid:)   (cid:) (cid:) (cid:)  (cid:) (cid:) (cid:) (cid:)  (cid:)    (cid:) s e v i t a g e N e s l a F d n a s e v i t i s o P e s l a F d i o v A e u l a v r e v i l e d t a h t s t s e t t u o y r r a C t s e r e t n I t c e t o r P d n a e v r e S f o s t c i ﬂ n o C d i o v A :  E :  E :  E :  E r e s i r o h t u A t s e t n e P t s e t - t s o p f e i r b e D k s i R e s i m n M i i :   E :   E , e e y o l p m e o t s n o i t c a f o s e c n e u q e s n o c r e d i s n o C :   E n o i s s e f o r P y t i r u c e S e h t d l o h p U :   E i d p u t s r o s u o i c i l a m e B :   E s t n e i l c , s r e n w o s s e n i s u b l a g e l t i p e e K :   E r e t s e t n e P t s e n o H d n a l a i t n e d ﬁ n o C t i p e e K s s o l y t i v i t c u d o r p e s u a c t o n o D :   E :   E ’ s d n e i r f r o y l i m a f s e e y o l p m e n a k c a t t A e e y o l p m e n a l i a m k c a l b r o s s a r r a b m E n o i s s i m r e p t u o h t i w e e y o l p m e t e g r a T e l b a d i o v a s i t i n e h w n o i t p e c e D e s U t u o t p o t i m r e P :  E :  E :  E :  E :  E s e e y o p m E l “Human ﬁrewall” pentesting framework  Table IV. Ethical principles of penetration testing ((cid:) = Avoid; (cid:) = Do This) Whitehead, ). Yet it does not seem appropriate for the “good guys” to appropriate techniques used by the “bad guys”. Pentesters aim to practice their skills ethically and defensively, as encompassed in their title. In this respect, they are fundamentally different from the usual cyber attacker: their ethical perspectives are diametrically opposed. Hence, we consider the development of a privacy-respecting GDPR-compliant human pentest framework to be desirable and beneﬁcial to the pentesting industry at large. Gathering personal information from the employee’s social networking sites, we believe, has become illegal due to the GDPR legislation coming into force. SMiShing is dubiously legal too, since it uses personal mobile numbers for purposes not speciﬁcally approved by their owners. We therefore add spear phishing without permission to the list of forbidden activities because it violates ethical principles E-E in Table IV. Principle E might also be violated if the message appears to come from family or friends. In some circumstances, executives of an organisation speciﬁcally want a pentester to check what information can be discovered about them online, so that they can act to reduce their exposure and the vulnerability this constitutes to the organisation. We could include this as a special extra activity in our pentest, on request, and require those being spear phished to have speciﬁcally granted signed permission to authorise the scouting activity that precedes this kind of campaign, respecting ethical principles E-E, and E-E in Table IV. It will be up to the individual pentester to decide whether to offer this test or not. .. Ambiguous legality. Some vulnerabilities mentioned by hackers and industry seem to be problematical, given the ethical hacker’s desire to stay within the bounds of the law (Principle E in Table III). For example, Goldschmidt () talks about RFID spying. This could very well be considered to be a criminal act, and we cannot therefore include it in our framework. Trying to gain access to the site, to test perimeter controls, on the other hand, is legal as long as the pentest Authoriser has provided the ethical hacker with signer authorisation which he/she can produce if challenged by security staff. One of the most popular techniques used by hackers is password guessing, but this is ethically unsound and potentially criminal (E), so we cannot include this activity on our pentest. Another technique that seems to stray into the wrong side of the law is ROSE, as mentioned by Lanier (). This requires the hacker to exploit an employee’s personal information to socially engineer them. Unless the employer has signed permission from the employee to use their personal information in this way, this kind of action could be considered unethical. Finally, any activity that could potentially compromise the privacy of staff should be avoided by ethical hackers, so as to ensure that GDPR regulation is not breached. That being so, wiretapping (Cameron, ) should probably be avoided (E). ICS ,  Figure . Ethical pentesting principles E-E “Human ﬁrewall” pentesting framework  Finally, since our framework seeks to respect privacy, we will not be including any SMSishing simulations, because that would require us to use personal mobile numbers for pentesting purposes, which could be considered a GDPR violation (Principles E-E in Table IV). Reading people’s card RFIDs is also illegal, especially if the hacker unwittingly gains access to credit or debit card details (E). Based on the ethical review, we retain the following techniques for the PoinTER framework. . POINTER human pentesting framework . The framework .. Phase : Pentest preparation. Part  - Pentester visits Authoriser away from ofﬁce to ask: () What information is valuable to the SME? (Palmer, ) () Agree the duration of the test (Allsopp, ). () Agree on success/failure metrics (Allsopp, ). () Get sign off from the Authoriser to carry out the human penetration test (Klevinsky, ). (cid:) If an accomplice will be helping the pentester to make phone calls or try to breach the physical perimeter, obtain a signed authorisation document for that person to carry with them in case they are challenged (Klevinsky, ). (cid:) Discuss options for the Scenario accomplice could use for phone call or breaching the physical perimeter () The SME should set up an email address such as: on the company domain, which can be used by employees to report a suspected phishing email, or if they realise they have been deceived. () To inform the pentest: (cid:) Are employees allowed to connect to the company WiFi from their Smartphones? (cid:) Go through the different meta categories and discuss each with the Authoriser, and get sign off for each. () Week before pentester visits: (cid:) (cid:) Authoriser should tell staff that an ethical hacker will be visiting to test the company’s cyber security. No mention should be made of the fact that this is actually a human pentest. SME owner should give staff his new conﬁdential mobile number, which is only for their use, but not to be given to anyone else. The ethical hacker loans him/her a mobile phone with this number so that calls to this number can be monitored. () Agree on schedule for reporting outcome (Allsopp, ). Part  – Pentester prepares Technical Components A TITBIT - Malware to be used in pentesting that only reports installations but no other information If Employee Phish is included in pentest: ICS ,  BAIT - Website that employee will be redirected to if they click on links. (cid:) Ensure that Google does not index the page (cid:) Install Google Analytics to count hits. DOPPELGANGER - email address that looks similar to that of the SME owner’s. Phish email texts - Depending on sign off from the Authoriser, four different messages might be needed. These might depend on the time of year (e.g. New Year sales), recent news reports (drone problems at Gatwick), a freebie (any desirable item), or a whaling message from the SME owner instructing the employee to respond with information. If Media drop is included: USB Sticks - Prepare USB sticks with TITBIT with an enticing ﬁle name. Use a label that is likely to entice people to open the ﬁle on the stick. Use an old-looking stick, that looks as if it has been lost. If Hygiene is included: Rogue WiFi: Set up rogue WiFi with name that is similar to the SME’s WiFi connection If Deception is included Scenario – develop scenario based on discussion for phone call and physical breach For every visit: Audit Trail: Set up a logbook, similar to the one shown in Appendix , to ensure that all relevant actions are logged, both those of the ethical hacker, the accomplice and the employees. An audit trail is essential, especially to separate the actions of the pentester from a hacker should the organisation be hacked during a penetration test (Whitaker and Newman, ). .. Phase : Pentest execution. The pentest should cover the areas mentioned in Table IV: Depending on which of these Phishes is explicitly authorised: (cid:) PHISH with LINK: (Nelms’s () enticing)The DOPPELGANGER sends a Phish message with an embedded link that redirects to the BAIT website (cid:) PHISH with Malware (Nelms’s () compliance): The DOPPELGANGER sends a Phish message that purports to come from the SME owner, with an attached ﬁle (TITBIT) with embedded executable functionality. The TITBIT ﬁle should inform the pentester that it has been opened, but not who opened it (cid:) PHISH with PDF ATTACHMENT: enticing)The DOPPELGANGER sends an email that purports to come from the SME owner, with a PDF ﬁle attached. The ﬁle itself is ﬁne, but there is an embedded link that is suspect. If clicked, it will redirect the employee to the BAIT (Nelms ()’s (cid:) WHALING: (Nelms’s () compliance and alarming)The DOPPELGANGER sends an email that purports to come from the SME owner, which asks the person to download a particular ﬁle and attend to it urgently. The link is similar to those generally used within the company. This could be Dropbox or Google Docs, for example. If clicked, this will redirect the employee to the BAIT website, which records the visit. If Media Drop is authorised: (cid:) MEDIA Drop (enticing): Drop USB sticks with a folder called SECRET-IMAGES. The folder is full of ﬁles with extensions like “.png”, “pdf” or “.jpg” but one or two (with enticing names) are actually exe ﬁles which will inform the pentester that they have been opened. “Human ﬁrewall” pentesting framework  (cid:) MEDIA Plugged in (deception): Plug an inactive keylogger into a machine’s USB (at the front of the machine) and see whether anyone spots it. If Deception is authorised: (cid:) In Person: Elicit the assistance of an Accomplice (Fellow pentester) who is not known to the company. They should arrive at the company with story (agreed Scenario), to persuade someone to “help” them by printing a CV from a USB stick. If an employee can be persuaded to plug in the USB stick, and open a ﬁle, an executable will inform the pentester. (cid:) Vishing: (Nelms ()’s alarming) Call and tell an employee a story (agreed Scenario) about a very urgent need to contact the SME owner, and try to elicit Conﬁdential-Mobile. If Hygiene test is authorised: () Walk around the ofﬁce space at the end of the day and see whether any computers have been left unlocked, whether mobile media have been left lying around. () Check for information that could be used to aid an exploit: (cid:) (cid:) displayed or written notes of passwords; and conﬁdential information left on desks () Mobile Phones: Check that the employee ensures that access to the phone is mediated by means of a PIN/Password or Fingerprint (not Pattern). Rogue WiFi: Check how many people connect to this .. Phase : Report. Jenny Radcliffe, called “The People’s Hacker” (O’Hora, ), talks about how friendliness and helpfulness can be exploited by social engineers. She recommends awareness drives and warns against blaming people who fall for social engineering attacks. She recommends engendering discussions about social engineering within the organisation. Hence, our ethical framework will not identify employees who have been deceived or fallen for a Phish, or engaged in any ill-advised insecure behaviours, aligning with principle E in Table III. Kennedy () consider the report to be the most important part of the pentest. They recommend three sections: executive summary; executive presentation; (cid:) (cid:) (cid:) ﬁndings; we add another section; and (cid:) best practice advice. In addition, because this is a human pentest, we recommend that the one-page summary be disseminated to all employees to raise awareness and reassure staff that they were not identiﬁed in the report. An executive summary template is suggested in Appendix . Below is our suggested report template. . Human pentest report template Title: Human Penetration Test for Company [SME] Company Location: [address] Date: [dd/mm/yy] ICS ,  Penetration Tester: [Name] () Executive Summary Broad brush report - answer the basic questions: (cid:) what the vulnerabilities are (refer to ﬁndings section); (cid:) how serious the vulnerability is (link to prevalence e.g. Nelms, ); and how to ﬁx it (direct links to best practice advice). (cid:) () Section Title Details of Authorised Tests Carried out Details of Tests carried out from Table III: () Phish, () Media, () Deception, () Hygiene, and () Mobile. Provide the texts of the Phish messages if these tests were carried out. Provide full details of the deception techniques used, and exactly when (times and dates) hygiene tests were performed: () Findings Report on ﬁndings for each of the authorised tests (aggregated with no identifying information): () Best Practice Advice As detailed below, with links to Findings subsections where appropriate: () PHISH: (cid:) Do not train staff to fall for Phish: The most pernicious mechanism used to hack humans is the Phish. Organisations sometimes inadvertently train their employees to fall for Phish by including links in organisation emails, attaching ﬁles that can contain malware, or sending out Word documents with embedded scripts[]. The company should examine their own practices in this respect and ensure that it is as easy as possible for employees to spot Phishes. (cid:) Encourage reporting of emails that people are concerned about. Never make anyone feel bad about reporting emails that turn out to be safe (Murdock and Sasse, ). (cid:) Organisations should implement standards such as the Sender Policy Framework (SPF), Domain Key Identiﬁed Message (DKIM), and Domain-based Message Authentication, Reporting and Conformance (DMARC)[]. Any emails that do not meet these standards should be blocked by the email server, and not delivered to employees. (cid:) Use certiﬁcates so that employees’ emails are digitally signed. Then explain to folks how they can conﬁrm the sender of the email in their email client. This makes it so much harder for a Phisher to masquerade as a legitimate employee. This is especially crucial given the fact that Phish emails appearing to come from those in authority are most likely to succeed (Williams, ). (cid:) Consider implementing two factor authentication[]. Then, even if employees inadvertently enter their credentials into a cloned website, the criminals will not be able to use them[]. () Media-Drop: provide a safe way for employees to check the contents of USB drives they ﬁnd. An example is to provide a computer in a shared space: not on the Internet with read-only hard drive. This neutralises the ability of the USB to compromise computers in the organisation so that people can satisfy their curiosity if they ﬁnd a drive without risk. In Person: consider giving employees access to a tool that will provide them with scripts to use when deciding whether something is an in-person social engineering attack or not (Mouton, ). () () Hygiene: if displayed or recorded passwords have been found, suggest the company promote use of a Password Manager. () Mobile: if mobiles access business email, ensure that employees implement access “Human ﬁrewall” pentesting framework  control on their phones. () Conclusion Summary of ﬁnding implications. The reﬁned POINTER framework is depicted in Figure . . Reﬂection This research has sought ﬁrst to compile a comprehensive list of techniques used by social engineers. We consulted four sources to do this: (cid:) (cid:) (cid:) (cid:) research literature; industry reports; hacker activities; and advice offered by ofﬁcial bodies to SMEs. Our review resulted in a list of  techniques (T-T). We then proceeded to compile a comprehensive list of ethical principles which white hat penetration testers can consult to ensure that their activities in this challenging area are indeed ethical (E-T). By using the ethical principles to ﬁlter those techniques that can be considered unethical, we are left with a set of social engineering techniques that can be included in the PoinTER framework. We then categorised these into ﬁve distinct categories: Phish (T-T), In-Person Attacks (T, T, T), Media Attacks (T), Hygiene Tests (T) and WiFi (T). Although the literature has suggestions for ethical approaches to hacking the human, Faily () consider how penetration testers deal with ethical issues. Based on interviews with experienced penetration testers they created a model based on extracting ethical dilemmas and dimensions. Dilemmas were represented by taking either an individual/unstructured position (IU) or a whole/structured position (WS) and the dimensions were represented as Value Ethics, Ethical Appeal, Client Focus and Practice Focus. Through analysis, they found fallacies and biases in the model. From this, they concluded that decision making of the Penetration Testers can be subject to bias and when confronted by ethical dilemmas biases can inﬂuence ethical decisions. Hence having a list of ethical principles, as shown in Table III and Figure , is essential in reducing such bias. Moreover, the ﬁltering of all available techniques, as shown in Figure , ensures that only techniques that have been subjected to ethical scrutiny are deployed. ICS ,  Finally, we propose that a measure of ﬂexibility be incorporated into the framework so that the pentest authoriser can approve or decline speciﬁc categories of testing techniques. In so proposing, we mirror practices of many pentesters in industry. While other authors have written about penetration testing humans, few have produced a comprehensive framework such as this one, which draws its techniques from multiple sources, and subjects each technique to ethical inspection, using a comprehensive list of ethical principles derived from the research literature. This framework is, in itself, a reﬁnement of a previously published framework. We expect further reﬁnements to follow, as this framework is used in the ﬁeld to guide and inform actual human pentests of SMEs. . Conclusion We report on the reﬁnement of a previously proposed pentest that sought to reduce employee-related vulnerabilities i.e. to improve resilience. Previously, we argued that such frameworks ought to be sensitive to ethical issues and preserve the privacy of the company’s employees. In this paper, we have further reﬁned the framework based on an extensive review of the academic literature, a review of what hackers exploit and advice from industry with respect to social engineering resistance. Moreover, we provide a list of ethical principles that we used to approve the techniques we included in our framework. This list could equally inform ethical technical pentests. Figure . Final list of categories (mapped to techniques) Figure . The reﬁned POINTER framework “Human ﬁrewall” pentesting framework  Notes .  .  .  threat-by-uk-businesses/ .  .  .  attacks.html .  between-vendor-emai .  .  -?r=US&IR=T \""
      ]
     },
     "execution_count": 36,
     "metadata": {},
     "output_type": "execute_result"
    }
   ],
   "source": [
    "my_df.loc[1151]['Full text without references']"
   ]
  },
  {
   "cell_type": "code",
   "execution_count": 38,
   "metadata": {
    "id": "S6-gawfulmaI"
   },
   "outputs": [],
   "source": [
    "# export aggregate news (set 1 + set 2)\n",
    "my_df.to_csv('Stage 4 - Aggregate papers.csv', index = False)"
   ]
  },
  {
   "cell_type": "code",
   "execution_count": 39,
   "metadata": {
    "id": "mY_RMXU5lmaK",
    "outputId": "f138c979-eed5-4608-de85-1af197d94ab7"
   },
   "outputs": [
    {
     "data": {
      "text/html": [
       "<div>\n",
       "<style scoped>\n",
       "    .dataframe tbody tr th:only-of-type {\n",
       "        vertical-align: middle;\n",
       "    }\n",
       "\n",
       "    .dataframe tbody tr th {\n",
       "        vertical-align: top;\n",
       "    }\n",
       "\n",
       "    .dataframe thead th {\n",
       "        text-align: right;\n",
       "    }\n",
       "</style>\n",
       "<table border=\"1\" class=\"dataframe\">\n",
       "  <thead>\n",
       "    <tr style=\"text-align: right;\">\n",
       "      <th></th>\n",
       "      <th>Unnamed: 0</th>\n",
       "      <th>Code</th>\n",
       "      <th>Full text</th>\n",
       "      <th>Full text without references</th>\n",
       "      <th>blank</th>\n",
       "      <th>english lang</th>\n",
       "      <th>remove manually</th>\n",
       "      <th>Authors</th>\n",
       "      <th>Author(s) ID</th>\n",
       "      <th>from file</th>\n",
       "      <th>...</th>\n",
       "      <th>CODEN</th>\n",
       "      <th>PubMed ID</th>\n",
       "      <th>Language of Original Document</th>\n",
       "      <th>Abbreviated Source Title</th>\n",
       "      <th>Document Type</th>\n",
       "      <th>Publication Stage</th>\n",
       "      <th>Open Access</th>\n",
       "      <th>Source</th>\n",
       "      <th>EID</th>\n",
       "      <th>Unnamed: 52</th>\n",
       "    </tr>\n",
       "  </thead>\n",
       "  <tbody>\n",
       "  </tbody>\n",
       "</table>\n",
       "<p>0 rows × 59 columns</p>\n",
       "</div>"
      ],
      "text/plain": [
       "Empty DataFrame\n",
       "Columns: [Unnamed: 0, Code, Full text, Full text without references, blank, english lang, remove manually, Authors, Author(s) ID, from file, manual, Title, smalltitle, Include/exclude, REASON for exclusion, REASON for exclusion - REAL REASON, comments from downloads, Year, Source title, Volume, Issue, Art. No., Page start, Page end, Page count, Cited by, DOI, Link, Affiliations, Authors with affiliations, Abstract, Author Keywords, Index Keywords, Funding Details, Funding Text 1, Funding Text 2, Funding Text 3, Funding Text 4, Funding Text 5, Funding Text 6, Funding Text 7, Funding Text 8, Funding Text 9, Funding Text 10, Correspondence Address, Editors, Publisher, ISSN, ISBN, CODEN, PubMed ID, Language of Original Document, Abbreviated Source Title, Document Type, Publication Stage, Open Access, Source, EID, Unnamed: 52]\n",
       "Index: []\n",
       "\n",
       "[0 rows x 59 columns]"
      ]
     },
     "execution_count": 39,
     "metadata": {},
     "output_type": "execute_result"
    }
   ],
   "source": [
    "# find duplicates based on Full text without references, if applicable\n",
    "my_df[my_df.duplicated(subset = ['Full text without references'], keep = 'first')]\n",
    "#my_df[my_df['Full text without references'].duplicated() == True]['Full text without references']"
   ]
  },
  {
   "cell_type": "code",
   "execution_count": 40,
   "metadata": {
    "id": "7OAxctrklmaN",
    "outputId": "5ff56850-b857-48cc-ae5e-bdb85fc29e8a"
   },
   "outputs": [
    {
     "data": {
      "text/html": [
       "<div>\n",
       "<style scoped>\n",
       "    .dataframe tbody tr th:only-of-type {\n",
       "        vertical-align: middle;\n",
       "    }\n",
       "\n",
       "    .dataframe tbody tr th {\n",
       "        vertical-align: top;\n",
       "    }\n",
       "\n",
       "    .dataframe thead th {\n",
       "        text-align: right;\n",
       "    }\n",
       "</style>\n",
       "<table border=\"1\" class=\"dataframe\">\n",
       "  <thead>\n",
       "    <tr style=\"text-align: right;\">\n",
       "      <th></th>\n",
       "      <th>Unnamed: 0</th>\n",
       "      <th>Code</th>\n",
       "      <th>Full text</th>\n",
       "      <th>Full text without references</th>\n",
       "      <th>blank</th>\n",
       "      <th>english lang</th>\n",
       "      <th>remove manually</th>\n",
       "      <th>Authors</th>\n",
       "      <th>Author(s) ID</th>\n",
       "      <th>from file</th>\n",
       "      <th>...</th>\n",
       "      <th>CODEN</th>\n",
       "      <th>PubMed ID</th>\n",
       "      <th>Language of Original Document</th>\n",
       "      <th>Abbreviated Source Title</th>\n",
       "      <th>Document Type</th>\n",
       "      <th>Publication Stage</th>\n",
       "      <th>Open Access</th>\n",
       "      <th>Source</th>\n",
       "      <th>EID</th>\n",
       "      <th>Unnamed: 52</th>\n",
       "    </tr>\n",
       "  </thead>\n",
       "  <tbody>\n",
       "  </tbody>\n",
       "</table>\n",
       "<p>0 rows × 59 columns</p>\n",
       "</div>"
      ],
      "text/plain": [
       "Empty DataFrame\n",
       "Columns: [Unnamed: 0, Code, Full text, Full text without references, blank, english lang, remove manually, Authors, Author(s) ID, from file, manual, Title, smalltitle, Include/exclude, REASON for exclusion, REASON for exclusion - REAL REASON, comments from downloads, Year, Source title, Volume, Issue, Art. No., Page start, Page end, Page count, Cited by, DOI, Link, Affiliations, Authors with affiliations, Abstract, Author Keywords, Index Keywords, Funding Details, Funding Text 1, Funding Text 2, Funding Text 3, Funding Text 4, Funding Text 5, Funding Text 6, Funding Text 7, Funding Text 8, Funding Text 9, Funding Text 10, Correspondence Address, Editors, Publisher, ISSN, ISBN, CODEN, PubMed ID, Language of Original Document, Abbreviated Source Title, Document Type, Publication Stage, Open Access, Source, EID, Unnamed: 52]\n",
       "Index: []\n",
       "\n",
       "[0 rows x 59 columns]"
      ]
     },
     "execution_count": 40,
     "metadata": {},
     "output_type": "execute_result"
    }
   ],
   "source": [
    "my_df[my_df.duplicated(subset = ['Full text without references'], keep = 'last')]"
   ]
  },
  {
   "cell_type": "code",
   "execution_count": 41,
   "metadata": {
    "id": "BUnanCDClmaQ",
    "outputId": "b9650517-4d58-4799-fcf7-4c6e08402830"
   },
   "outputs": [
    {
     "data": {
      "text/plain": [
       "(1252, 59)"
      ]
     },
     "execution_count": 41,
     "metadata": {},
     "output_type": "execute_result"
    }
   ],
   "source": [
    "# removing duplicates based on the article, if applicable\n",
    "new_df = my_df.drop_duplicates(subset = ['Full text without references'])\n",
    "new_df = new_df.reset_index(drop = True)\n",
    "new_df.to_csv('Stage 4.1 - Aggregate papers without duplicates.csv', index = False)\n",
    "new_df.shape"
   ]
  }
 ],
 "metadata": {
  "colab": {
   "name": "papers aggregation & duplicate removal & language test.ipynb",
   "provenance": []
  },
  "kernelspec": {
   "display_name": "Python 3",
   "language": "python",
   "name": "python3"
  },
  "language_info": {
   "codemirror_mode": {
    "name": "ipython",
    "version": 3
   },
   "file_extension": ".py",
   "mimetype": "text/x-python",
   "name": "python",
   "nbconvert_exporter": "python",
   "pygments_lexer": "ipython3",
   "version": "3.8.3"
  }
 },
 "nbformat": 4,
 "nbformat_minor": 1
}
