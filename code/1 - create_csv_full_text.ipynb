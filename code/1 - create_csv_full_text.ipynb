{
 "cells": [
  {
   "cell_type": "code",
   "execution_count": 2,
   "metadata": {
    "id": "8N3rF24klkfc",
    "outputId": "c6313d02-c5cb-4626-cb82-893471110ef3"
   },
   "outputs": [
    {
     "data": {
      "text/plain": [
       "'C:\\\\Users\\\\bbhat\\\\Downloads\\\\MRP\\\\Final Files'"
      ]
     },
     "execution_count": 2,
     "metadata": {},
     "output_type": "execute_result"
    }
   ],
   "source": [
    "# Change active directory to the folder containing full-text PDF files\n",
    "import os\n",
    "\n",
    "os.chdir('C:\\\\Users\\\\bbhat\\\\Downloads\\\\MRP\\\\Final Files')\n",
    "\n",
    "os.getcwd()"
   ]
  },
  {
   "cell_type": "code",
   "execution_count": 7,
   "metadata": {
    "scrolled": true
   },
   "outputs": [
    {
     "name": "stdout",
     "output_type": "stream",
     "text": [
      "Requirement already satisfied: pdfminer in c:\\users\\bbhat\\anaconda3\\lib\\site-packages (20191125)\n",
      "Requirement already satisfied: pycryptodome in c:\\users\\bbhat\\anaconda3\\lib\\site-packages (from pdfminer) (3.14.1)\n",
      "Note: you may need to restart the kernel to use updated packages.\n"
     ]
    }
   ],
   "source": [
    "pip install pdfminer"
   ]
  },
  {
   "cell_type": "code",
   "execution_count": 8,
   "metadata": {},
   "outputs": [
    {
     "name": "stdout",
     "output_type": "stream",
     "text": [
      "Requirement already satisfied: pdfminer.six in c:\\users\\bbhat\\anaconda3\\lib\\site-packages (20220506)\n",
      "Requirement already satisfied: cryptography~=36.0.0 in c:\\users\\bbhat\\anaconda3\\lib\\site-packages (from pdfminer.six) (36.0.2)\n",
      "Requirement already satisfied: charset-normalizer~=2.0.0 in c:\\users\\bbhat\\anaconda3\\lib\\site-packages (from pdfminer.six) (2.0.12)\n",
      "Requirement already satisfied: cffi>=1.12 in c:\\users\\bbhat\\anaconda3\\lib\\site-packages (from cryptography~=36.0.0->pdfminer.six) (1.14.0)\n",
      "Requirement already satisfied: pycparser in c:\\users\\bbhat\\anaconda3\\lib\\site-packages (from cffi>=1.12->cryptography~=36.0.0->pdfminer.six) (2.20)\n",
      "Note: you may need to restart the kernel to use updated packages.\n"
     ]
    }
   ],
   "source": [
    "pip install pdfminer.six"
   ]
  },
  {
   "cell_type": "code",
   "execution_count": 9,
   "metadata": {},
   "outputs": [],
   "source": [
    "import pdfminer\n",
    "import pdfminer.high_level"
   ]
  },
  {
   "cell_type": "code",
   "execution_count": 5,
   "metadata": {
    "id": "9G1dIIWclkfh",
    "outputId": "52cea07b-64ec-471a-b4cd-1b4e9dc3e59b"
   },
   "outputs": [
    {
     "name": "stdout",
     "output_type": "stream",
     "text": [
      "(1324, 2)\n",
      "[]\n"
     ]
    },
    {
     "data": {
      "text/html": [
       "<div>\n",
       "<style scoped>\n",
       "    .dataframe tbody tr th:only-of-type {\n",
       "        vertical-align: middle;\n",
       "    }\n",
       "\n",
       "    .dataframe tbody tr th {\n",
       "        vertical-align: top;\n",
       "    }\n",
       "\n",
       "    .dataframe thead th {\n",
       "        text-align: right;\n",
       "    }\n",
       "</style>\n",
       "<table border=\"1\" class=\"dataframe\">\n",
       "  <thead>\n",
       "    <tr style=\"text-align: right;\">\n",
       "      <th></th>\n",
       "      <th>Code</th>\n",
       "      <th>Full text</th>\n",
       "    </tr>\n",
       "  </thead>\n",
       "  <tbody>\n",
       "    <tr>\n",
       "      <th>0</th>\n",
       "      <td>0001</td>\n",
       "      <td>Journal of Business Continuity &amp; Emergency Pla...</td>\n",
       "    </tr>\n",
       "    <tr>\n",
       "      <th>1</th>\n",
       "      <td>0002</td>\n",
       "      <td>Code:54.6009d \\n\\nCybersecurity Resiliency of ...</td>\n",
       "    </tr>\n",
       "    <tr>\n",
       "      <th>2</th>\n",
       "      <td>0003</td>\n",
       "      <td>PERSPECTIVE\\npublished: 29 March 2019\\ndoi: 10...</td>\n",
       "    </tr>\n",
       "    <tr>\n",
       "      <th>3</th>\n",
       "      <td>0004</td>\n",
       "      <td>2018 48th Annual IEEE/IFIP International Confe...</td>\n",
       "    </tr>\n",
       "    <tr>\n",
       "      <th>4</th>\n",
       "      <td>0005</td>\n",
       "      <td>Received January 25, 2021, accepted February 2...</td>\n",
       "    </tr>\n",
       "    <tr>\n",
       "      <th>...</th>\n",
       "      <td>...</td>\n",
       "      <td>...</td>\n",
       "    </tr>\n",
       "    <tr>\n",
       "      <th>1319</th>\n",
       "      <td>1406</td>\n",
       "      <td>HSI 2009 \\n\\nCatania, Italy, May 21-23, 2009 \\...</td>\n",
       "    </tr>\n",
       "    <tr>\n",
       "      <th>1320</th>\n",
       "      <td>1407</td>\n",
       "      <td>Identity \\n\\nBased Authenticated \\n\\nKey Agree...</td>\n",
       "    </tr>\n",
       "    <tr>\n",
       "      <th>1321</th>\n",
       "      <td>1408</td>\n",
       "      <td>Using Operating System Wrappers to Increase th...</td>\n",
       "    </tr>\n",
       "    <tr>\n",
       "      <th>1322</th>\n",
       "      <td>1409</td>\n",
       "      <td>Intrusion Tolerant Systems (cid:0)\\n\\nPartha P...</td>\n",
       "    </tr>\n",
       "    <tr>\n",
       "      <th>1323</th>\n",
       "      <td>1411</td>\n",
       "      <td>Journal of Transportation Security (2021) 14:1...</td>\n",
       "    </tr>\n",
       "  </tbody>\n",
       "</table>\n",
       "<p>1324 rows × 2 columns</p>\n",
       "</div>"
      ],
      "text/plain": [
       "      Code                                          Full text\n",
       "0     0001  Journal of Business Continuity & Emergency Pla...\n",
       "1     0002  Code:54.6009d \\n\\nCybersecurity Resiliency of ...\n",
       "2     0003  PERSPECTIVE\\npublished: 29 March 2019\\ndoi: 10...\n",
       "3     0004  2018 48th Annual IEEE/IFIP International Confe...\n",
       "4     0005  Received January 25, 2021, accepted February 2...\n",
       "...    ...                                                ...\n",
       "1319  1406  HSI 2009 \\n\\nCatania, Italy, May 21-23, 2009 \\...\n",
       "1320  1407  Identity \\n\\nBased Authenticated \\n\\nKey Agree...\n",
       "1321  1408  Using Operating System Wrappers to Increase th...\n",
       "1322  1409  Intrusion Tolerant Systems (cid:0)\\n\\nPartha P...\n",
       "1323  1411  Journal of Transportation Security (2021) 14:1...\n",
       "\n",
       "[1324 rows x 2 columns]"
      ]
     },
     "execution_count": 5,
     "metadata": {},
     "output_type": "execute_result"
    }
   ],
   "source": [
    "# create the dataframe of full text papers\n",
    "\n",
    "from pdfminer.high_level import extract_text\n",
    "import numpy as np\n",
    "\n",
    "new_my_dict = {'Code': [], 'Full text': []}\n",
    "\n",
    "non_retrievables = []\n",
    "\n",
    "for i in range(1, 1549):\n",
    "    if os.path.isfile(str(i).zfill(4) +'.pdf'):\n",
    "        new_my_dict['Code'].append(str(i).zfill(4))\n",
    "        try:\n",
    "            text_from_pdf = extract_text(str(i).zfill(4) +'.pdf')\n",
    "            new_my_dict['Full text'].append(text_from_pdf)\n",
    "        except:\n",
    "            non_retrievables.append(str(i).zfill(4))\n",
    "            new_my_dict['Full text'].append(np.nan)\n",
    "\n",
    "import pandas as pd\n",
    "new_my_df = pd.DataFrame(new_my_dict)   # index = 'Code'\n",
    "print(new_my_df.shape)\n",
    "print(non_retrievables)\n",
    "new_my_df"
   ]
  },
  {
   "cell_type": "code",
   "execution_count": 6,
   "metadata": {
    "id": "jAvpMb06lkfj",
    "outputId": "e5adf9ec-1b5d-4720-b26d-f9db29b589a4"
   },
   "outputs": [
    {
     "data": {
      "text/html": [
       "<div>\n",
       "<style scoped>\n",
       "    .dataframe tbody tr th:only-of-type {\n",
       "        vertical-align: middle;\n",
       "    }\n",
       "\n",
       "    .dataframe tbody tr th {\n",
       "        vertical-align: top;\n",
       "    }\n",
       "\n",
       "    .dataframe thead th {\n",
       "        text-align: right;\n",
       "    }\n",
       "</style>\n",
       "<table border=\"1\" class=\"dataframe\">\n",
       "  <thead>\n",
       "    <tr style=\"text-align: right;\">\n",
       "      <th></th>\n",
       "      <th>Code</th>\n",
       "      <th>Full text</th>\n",
       "    </tr>\n",
       "  </thead>\n",
       "  <tbody>\n",
       "    <tr>\n",
       "      <th>0</th>\n",
       "      <td>0001</td>\n",
       "      <td>Journal of Business Continuity &amp; Emergency Pla...</td>\n",
       "    </tr>\n",
       "    <tr>\n",
       "      <th>1</th>\n",
       "      <td>0002</td>\n",
       "      <td>Code:54.6009d \\n\\nCybersecurity Resiliency of ...</td>\n",
       "    </tr>\n",
       "    <tr>\n",
       "      <th>2</th>\n",
       "      <td>0003</td>\n",
       "      <td>PERSPECTIVE\\npublished: 29 March 2019\\ndoi: 10...</td>\n",
       "    </tr>\n",
       "    <tr>\n",
       "      <th>3</th>\n",
       "      <td>0004</td>\n",
       "      <td>2018 48th Annual IEEE/IFIP International Confe...</td>\n",
       "    </tr>\n",
       "    <tr>\n",
       "      <th>4</th>\n",
       "      <td>0005</td>\n",
       "      <td>Received January 25, 2021, accepted February 2...</td>\n",
       "    </tr>\n",
       "    <tr>\n",
       "      <th>...</th>\n",
       "      <td>...</td>\n",
       "      <td>...</td>\n",
       "    </tr>\n",
       "    <tr>\n",
       "      <th>1319</th>\n",
       "      <td>1406</td>\n",
       "      <td>HSI 2009 \\n\\nCatania, Italy, May 21-23, 2009 \\...</td>\n",
       "    </tr>\n",
       "    <tr>\n",
       "      <th>1320</th>\n",
       "      <td>1407</td>\n",
       "      <td>Identity \\n\\nBased Authenticated \\n\\nKey Agree...</td>\n",
       "    </tr>\n",
       "    <tr>\n",
       "      <th>1321</th>\n",
       "      <td>1408</td>\n",
       "      <td>Using Operating System Wrappers to Increase th...</td>\n",
       "    </tr>\n",
       "    <tr>\n",
       "      <th>1322</th>\n",
       "      <td>1409</td>\n",
       "      <td>Intrusion Tolerant Systems (cid:0)\\n\\nPartha P...</td>\n",
       "    </tr>\n",
       "    <tr>\n",
       "      <th>1323</th>\n",
       "      <td>1411</td>\n",
       "      <td>Journal of Transportation Security (2021) 14:1...</td>\n",
       "    </tr>\n",
       "  </tbody>\n",
       "</table>\n",
       "<p>1324 rows × 2 columns</p>\n",
       "</div>"
      ],
      "text/plain": [
       "      Code                                          Full text\n",
       "0     0001  Journal of Business Continuity & Emergency Pla...\n",
       "1     0002  Code:54.6009d \\n\\nCybersecurity Resiliency of ...\n",
       "2     0003  PERSPECTIVE\\npublished: 29 March 2019\\ndoi: 10...\n",
       "3     0004  2018 48th Annual IEEE/IFIP International Confe...\n",
       "4     0005  Received January 25, 2021, accepted February 2...\n",
       "...    ...                                                ...\n",
       "1319  1406  HSI 2009 \\n\\nCatania, Italy, May 21-23, 2009 \\...\n",
       "1320  1407  Identity \\n\\nBased Authenticated \\n\\nKey Agree...\n",
       "1321  1408  Using Operating System Wrappers to Increase th...\n",
       "1322  1409  Intrusion Tolerant Systems (cid:0)\\n\\nPartha P...\n",
       "1323  1411  Journal of Transportation Security (2021) 14:1...\n",
       "\n",
       "[1324 rows x 2 columns]"
      ]
     },
     "execution_count": 6,
     "metadata": {},
     "output_type": "execute_result"
    }
   ],
   "source": [
    "pd.options.display.max_rows = 999\n",
    "new_my_df"
   ]
  },
  {
   "cell_type": "code",
   "execution_count": 7,
   "metadata": {
    "id": "0fKVxtknlkfk"
   },
   "outputs": [],
   "source": [
    "# export data to a CSV file\n",
    "new_my_df.to_csv('Stage 1 - new papers full text.csv', index = False)"
   ]
  }
 ],
 "metadata": {
  "colab": {
   "name": "create csv full text.ipynb",
   "provenance": []
  },
  "kernelspec": {
   "display_name": "Python 3",
   "language": "python",
   "name": "python3"
  },
  "language_info": {
   "codemirror_mode": {
    "name": "ipython",
    "version": 3
   },
   "file_extension": ".py",
   "mimetype": "text/x-python",
   "name": "python",
   "nbconvert_exporter": "python",
   "pygments_lexer": "ipython3",
   "version": "3.8.3"
  }
 },
 "nbformat": 4,
 "nbformat_minor": 1
}
